{
 "cells": [
  {
   "cell_type": "code",
   "execution_count": 1,
   "metadata": {},
   "outputs": [],
   "source": [
    "import os \n",
    "import json \n",
    "import numpy as np"
   ]
  },
  {
   "cell_type": "code",
   "execution_count": 3,
   "metadata": {},
   "outputs": [],
   "source": [
    "datas = os.listdir('/teamspace/studios/this_studio/data')"
   ]
  },
  {
   "cell_type": "code",
   "execution_count": 4,
   "metadata": {},
   "outputs": [
    {
     "ename": "IsADirectoryError",
     "evalue": "[Errno 21] Is a directory: '/teamspace/studios/this_studio/data/AMASS'",
     "output_type": "error",
     "traceback": [
      "\u001b[0;31m---------------------------------------------------------------------------\u001b[0m",
      "\u001b[0;31mIsADirectoryError\u001b[0m                         Traceback (most recent call last)",
      "Cell \u001b[0;32mIn[4], line 2\u001b[0m\n\u001b[1;32m      1\u001b[0m \u001b[38;5;28;01mfor\u001b[39;00m data \u001b[38;5;129;01min\u001b[39;00m datas:\n\u001b[0;32m----> 2\u001b[0m     data \u001b[38;5;241m=\u001b[39m \u001b[43mnp\u001b[49m\u001b[38;5;241;43m.\u001b[39;49m\u001b[43mload\u001b[49m\u001b[43m(\u001b[49m\u001b[38;5;124;43m'\u001b[39;49m\u001b[38;5;124;43m/teamspace/studios/this_studio/data/\u001b[39;49m\u001b[38;5;124;43m'\u001b[39;49m\u001b[38;5;241;43m+\u001b[39;49m\u001b[43m \u001b[49m\u001b[43mdata\u001b[49m\u001b[43m)\u001b[49m\n\u001b[1;32m      3\u001b[0m     \u001b[38;5;28;01mbreak\u001b[39;00m\n",
      "File \u001b[0;32m/home/zeus/miniconda3/envs/cloudspace/lib/python3.10/site-packages/numpy/lib/npyio.py:427\u001b[0m, in \u001b[0;36mload\u001b[0;34m(file, mmap_mode, allow_pickle, fix_imports, encoding, max_header_size)\u001b[0m\n\u001b[1;32m    425\u001b[0m     own_fid \u001b[38;5;241m=\u001b[39m \u001b[38;5;28;01mFalse\u001b[39;00m\n\u001b[1;32m    426\u001b[0m \u001b[38;5;28;01melse\u001b[39;00m:\n\u001b[0;32m--> 427\u001b[0m     fid \u001b[38;5;241m=\u001b[39m stack\u001b[38;5;241m.\u001b[39menter_context(\u001b[38;5;28;43mopen\u001b[39;49m\u001b[43m(\u001b[49m\u001b[43mos_fspath\u001b[49m\u001b[43m(\u001b[49m\u001b[43mfile\u001b[49m\u001b[43m)\u001b[49m\u001b[43m,\u001b[49m\u001b[43m \u001b[49m\u001b[38;5;124;43m\"\u001b[39;49m\u001b[38;5;124;43mrb\u001b[39;49m\u001b[38;5;124;43m\"\u001b[39;49m\u001b[43m)\u001b[49m)\n\u001b[1;32m    428\u001b[0m     own_fid \u001b[38;5;241m=\u001b[39m \u001b[38;5;28;01mTrue\u001b[39;00m\n\u001b[1;32m    430\u001b[0m \u001b[38;5;66;03m# Code to distinguish from NumPy binary files and pickles.\u001b[39;00m\n",
      "\u001b[0;31mIsADirectoryError\u001b[0m: [Errno 21] Is a directory: '/teamspace/studios/this_studio/data/AMASS'"
     ]
    }
   ],
   "source": [
    "for data in datas:\n",
    "    data = np.load('/teamspace/studios/this_studio/data/'+ data)\n",
    "    break"
   ]
  },
  {
   "cell_type": "code",
   "execution_count": 22,
   "metadata": {},
   "outputs": [],
   "source": [
    "data = np.load('/teamspace/studios/this_studio/data/poses.npy')"
   ]
  },
  {
   "cell_type": "code",
   "execution_count": 23,
   "metadata": {},
   "outputs": [],
   "source": [
    "pose_body = np.load('/teamspace/studios/this_studio/data/pose_body.npy')"
   ]
  },
  {
   "cell_type": "code",
   "execution_count": 24,
   "metadata": {},
   "outputs": [
    {
     "data": {
      "text/plain": [
       "(1390, 63)"
      ]
     },
     "execution_count": 24,
     "metadata": {},
     "output_type": "execute_result"
    }
   ],
   "source": [
    "pose_body.shape"
   ]
  },
  {
   "cell_type": "code",
   "execution_count": 25,
   "metadata": {},
   "outputs": [
    {
     "data": {
      "text/plain": [
       "array([ 0.12455997,  0.05149325,  0.14867556,  0.11965676, -0.12457816,\n",
       "       -0.2209293 ,  0.1398519 ,  0.02970516, -0.04934124,  0.13825737,\n",
       "       -0.28532494, -0.01269642,  0.12409038,  0.17953852, -0.03887345,\n",
       "        0.1296551 , -0.06146106,  0.03158279, -0.0741343 ,  0.26563844,\n",
       "       -0.00760974,  0.02460172, -0.25287471,  0.16171929,  0.05507762,\n",
       "        0.00182056,  0.01081122,  0.        ,  0.        ,  0.        ,\n",
       "        0.        ,  0.        ,  0.        ,  0.05785037, -0.12676334,\n",
       "        0.00198578,  0.01179659,  0.07202771, -0.03439758,  0.03603139,\n",
       "       -0.06621421,  0.04832821, -0.08454545, -0.07482714,  0.10296503,\n",
       "       -0.20498383, -0.05234738, -0.00742704, -0.30428149, -0.03829075,\n",
       "        0.10025549, -0.11507306, -0.09239964,  0.0750003 , -0.31628224,\n",
       "        0.17947587, -0.22720888,  0.11834613, -0.07719807, -0.1996713 ,\n",
       "       -0.00974169,  0.0220877 ,  0.22125178])"
      ]
     },
     "execution_count": 25,
     "metadata": {},
     "output_type": "execute_result"
    }
   ],
   "source": [
    "pose_body[0]"
   ]
  },
  {
   "cell_type": "code",
   "execution_count": 5,
   "metadata": {},
   "outputs": [],
   "source": [
    "import pickle"
   ]
  },
  {
   "cell_type": "code",
   "execution_count": 6,
   "metadata": {},
   "outputs": [
    {
     "ename": "AttributeError",
     "evalue": "'list' object has no attribute 'keys'",
     "output_type": "error",
     "traceback": [
      "\u001b[0;31m---------------------------------------------------------------------------\u001b[0m",
      "\u001b[0;31mAttributeError\u001b[0m                            Traceback (most recent call last)",
      "Cell \u001b[0;32mIn[6], line 3\u001b[0m\n\u001b[1;32m      1\u001b[0m \u001b[38;5;28;01mwith\u001b[39;00m \u001b[38;5;28mopen\u001b[39m(\u001b[38;5;124m'\u001b[39m\u001b[38;5;124m/teamspace/studios/this_studio/data/AMASS/AMASS/amass_joints_h36m_60.pkl\u001b[39m\u001b[38;5;124m'\u001b[39m, \u001b[38;5;124m'\u001b[39m\u001b[38;5;124mrb\u001b[39m\u001b[38;5;124m'\u001b[39m) \u001b[38;5;28;01mas\u001b[39;00m f: \n\u001b[1;32m      2\u001b[0m     data \u001b[38;5;241m=\u001b[39m pickle\u001b[38;5;241m.\u001b[39mload(f)\n\u001b[0;32m----> 3\u001b[0m \u001b[43mdata\u001b[49m\u001b[38;5;241;43m.\u001b[39;49m\u001b[43mkeys\u001b[49m()\n\u001b[1;32m      4\u001b[0m data[\u001b[38;5;124m'\u001b[39m\u001b[38;5;124mh36m_test_subjects\u001b[39m\u001b[38;5;124m'\u001b[39m]\n",
      "\u001b[0;31mAttributeError\u001b[0m: 'list' object has no attribute 'keys'"
     ]
    }
   ],
   "source": [
    "with open('/teamspace/studios/this_studio/data/AMASS/AMASS/amass_joints_h36m_60.pkl', 'rb') as f: \n",
    "    data = pickle.load(f)"
   ]
  },
  {
   "cell_type": "code",
   "execution_count": 7,
   "metadata": {},
   "outputs": [
    {
     "data": {
      "text/plain": [
       "14919"
      ]
     },
     "execution_count": 7,
     "metadata": {},
     "output_type": "execute_result"
    }
   ],
   "source": [
    "len(data)"
   ]
  },
  {
   "cell_type": "code",
   "execution_count": 9,
   "metadata": {},
   "outputs": [
    {
     "data": {
      "text/plain": [
       "(17, 180, 3)"
      ]
     },
     "execution_count": 9,
     "metadata": {},
     "output_type": "execute_result"
    }
   ],
   "source": [
    "data[0].shape"
   ]
  },
  {
   "cell_type": "code",
   "execution_count": 23,
   "metadata": {},
   "outputs": [
    {
     "name": "stdout",
     "output_type": "stream",
     "text": [
      "86 9210 5623\n"
     ]
    }
   ],
   "source": [
    "max_frames = -9999\n",
    "min_frames = 9999999\n",
    "\n",
    "min_threshold = 60\n",
    "middle_threshold = 500\n",
    "max_threshold = 1000\n",
    "\n",
    "min_count = 0\n",
    "middle_count = 0\n",
    "max_count = 0\n",
    "\n",
    "new_data = []\n",
    "\n",
    "for i in data: \n",
    "    if i.shape[1] < min_threshold: \n",
    "        min_count += 1\n",
    "    elif i.shape[1] < middle_threshold: \n",
    "        middle_count += 1\n",
    "    else: \n",
    "        new_data.append(i)\n",
    "        max_count += 1\n",
    "print(min_count, middle_count, max_count)\n"
   ]
  },
  {
   "cell_type": "code",
   "execution_count": 26,
   "metadata": {},
   "outputs": [
    {
     "data": {
      "text/plain": [
       "5623"
      ]
     },
     "execution_count": 26,
     "metadata": {},
     "output_type": "execute_result"
    }
   ],
   "source": [
    "len(new_data)"
   ]
  },
  {
   "cell_type": "code",
   "execution_count": 33,
   "metadata": {},
   "outputs": [
    {
     "data": {
      "text/plain": [
       "array([[[-2.55590609e-02,  1.09315553e-02,  9.07788486e-01],\n",
       "        [-3.17135891e-02,  1.18065177e-02,  9.07184951e-01],\n",
       "        [-3.43048296e-02,  1.11601072e-02,  9.06645479e-01],\n",
       "        ...,\n",
       "        [-6.55996576e-03,  3.17017392e-03,  8.95144337e-01],\n",
       "        [-2.57223990e-03,  3.94151442e-03,  8.97850197e-01],\n",
       "        [-1.08042243e-03,  4.75356371e-03,  9.00372027e-01]],\n",
       "\n",
       "       [[-2.90556809e-02, -1.44422195e-01,  9.14707115e-01],\n",
       "        [-3.60435130e-02, -1.43255913e-01,  9.13605065e-01],\n",
       "        [-3.82915528e-02, -1.43546563e-01,  9.14397070e-01],\n",
       "        ...,\n",
       "        [ 5.08338091e-04, -1.52919243e-01,  8.94946506e-01],\n",
       "        [ 4.21762242e-03, -1.52240841e-01,  8.97524475e-01],\n",
       "        [ 3.89998096e-03, -1.51388768e-01,  9.00204144e-01]],\n",
       "\n",
       "       [[ 1.03850453e-01, -8.87341516e-02,  5.01249453e-01],\n",
       "        [ 1.08101471e-01, -8.66123878e-02,  5.06875283e-01],\n",
       "        [ 1.14402032e-01, -8.59810276e-02,  5.11835891e-01],\n",
       "        ...,\n",
       "        [-4.28811150e-02, -7.07427121e-02,  4.74441564e-01],\n",
       "        [-2.62109011e-02, -7.15445956e-02,  4.74209416e-01],\n",
       "        [-8.00874011e-03, -7.26882373e-02,  4.73765170e-01]],\n",
       "\n",
       "       ...,\n",
       "\n",
       "       [[-5.50675678e-02, -1.29866141e-01,  1.32040501e+00],\n",
       "        [-5.90906629e-02, -1.29711186e-01,  1.32045977e+00],\n",
       "        [-6.35962884e-02, -1.29690827e-01,  1.32074388e+00],\n",
       "        ...,\n",
       "        [-1.58287148e-02, -1.40557431e-01,  1.31226664e+00],\n",
       "        [-1.62330112e-02, -1.39652501e-01,  1.31525026e+00],\n",
       "        [-1.72111057e-02, -1.38958039e-01,  1.31787101e+00]],\n",
       "\n",
       "       [[-6.80591316e-02, -2.36162031e-01,  1.07157018e+00],\n",
       "        [-7.14242468e-02, -2.35036814e-01,  1.07167690e+00],\n",
       "        [-7.65163767e-02, -2.34152055e-01,  1.07160961e+00],\n",
       "        ...,\n",
       "        [-7.90346213e-03, -2.47723466e-01,  1.05398008e+00],\n",
       "        [-1.20138055e-02, -2.47721252e-01,  1.05788391e+00],\n",
       "        [-1.62734661e-02, -2.47814155e-01,  1.06171379e+00]],\n",
       "\n",
       "       [[ 5.67652602e-02, -2.25304644e-01,  8.93501036e-01],\n",
       "        [ 5.06112415e-02, -2.25710326e-01,  8.91242832e-01],\n",
       "        [ 4.59633384e-02, -2.26925836e-01,  8.91289715e-01],\n",
       "        ...,\n",
       "        [ 5.72496592e-02, -1.82124452e-01,  8.38780804e-01],\n",
       "        [ 5.12088066e-02, -1.82173365e-01,  8.42426665e-01],\n",
       "        [ 4.39911720e-02, -1.84640758e-01,  8.44648508e-01]]])"
      ]
     },
     "execution_count": 33,
     "metadata": {},
     "output_type": "execute_result"
    }
   ],
   "source": [
    "new_data[1000]\n"
   ]
  },
  {
   "cell_type": "code",
   "execution_count": 31,
   "metadata": {},
   "outputs": [
    {
     "data": {
      "text/plain": [
       "(1324, 3)"
      ]
     },
     "execution_count": 31,
     "metadata": {},
     "output_type": "execute_result"
    }
   ],
   "source": [
    "new_data[1][0].shape"
   ]
  },
  {
   "cell_type": "code",
   "execution_count": null,
   "metadata": {},
   "outputs": [],
   "source": []
  }
 ],
 "metadata": {
  "kernelspec": {
   "display_name": "cloudspace",
   "language": "python",
   "name": "python3"
  },
  "language_info": {
   "codemirror_mode": {
    "name": "ipython",
    "version": 3
   },
   "file_extension": ".py",
   "mimetype": "text/x-python",
   "name": "python",
   "nbconvert_exporter": "python",
   "pygments_lexer": "ipython3",
   "version": "3.10.10"
  }
 },
 "nbformat": 4,
 "nbformat_minor": 2
}
