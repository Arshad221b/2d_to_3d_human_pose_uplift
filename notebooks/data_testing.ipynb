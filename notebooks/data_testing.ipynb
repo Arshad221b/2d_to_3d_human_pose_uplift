{
 "cells": [
  {
   "cell_type": "code",
   "execution_count": 2,
   "metadata": {},
   "outputs": [],
   "source": [
    "import os \n",
    "import json \n",
    "import numpy as np"
   ]
  },
  {
   "cell_type": "code",
   "execution_count": 3,
   "metadata": {},
   "outputs": [],
   "source": [
    "datas = os.listdir('/teamspace/studios/this_studio/data')"
   ]
  },
  {
   "cell_type": "code",
   "execution_count": 11,
   "metadata": {},
   "outputs": [],
   "source": [
    "for data in datas:\n",
    "    data = np.load('/teamspace/studios/this_studio/data/'+ data)\n",
    "    break"
   ]
  },
  {
   "cell_type": "code",
   "execution_count": 22,
   "metadata": {},
   "outputs": [],
   "source": [
    "data = np.load('/teamspace/studios/this_studio/data/poses.npy')"
   ]
  },
  {
   "cell_type": "code",
   "execution_count": 23,
   "metadata": {},
   "outputs": [],
   "source": [
    "pose_body = np.load('/teamspace/studios/this_studio/data/pose_body.npy')"
   ]
  },
  {
   "cell_type": "code",
   "execution_count": 24,
   "metadata": {},
   "outputs": [
    {
     "data": {
      "text/plain": [
       "(1390, 63)"
      ]
     },
     "execution_count": 24,
     "metadata": {},
     "output_type": "execute_result"
    }
   ],
   "source": [
    "pose_body.shape"
   ]
  },
  {
   "cell_type": "code",
   "execution_count": 25,
   "metadata": {},
   "outputs": [
    {
     "data": {
      "text/plain": [
       "array([ 0.12455997,  0.05149325,  0.14867556,  0.11965676, -0.12457816,\n",
       "       -0.2209293 ,  0.1398519 ,  0.02970516, -0.04934124,  0.13825737,\n",
       "       -0.28532494, -0.01269642,  0.12409038,  0.17953852, -0.03887345,\n",
       "        0.1296551 , -0.06146106,  0.03158279, -0.0741343 ,  0.26563844,\n",
       "       -0.00760974,  0.02460172, -0.25287471,  0.16171929,  0.05507762,\n",
       "        0.00182056,  0.01081122,  0.        ,  0.        ,  0.        ,\n",
       "        0.        ,  0.        ,  0.        ,  0.05785037, -0.12676334,\n",
       "        0.00198578,  0.01179659,  0.07202771, -0.03439758,  0.03603139,\n",
       "       -0.06621421,  0.04832821, -0.08454545, -0.07482714,  0.10296503,\n",
       "       -0.20498383, -0.05234738, -0.00742704, -0.30428149, -0.03829075,\n",
       "        0.10025549, -0.11507306, -0.09239964,  0.0750003 , -0.31628224,\n",
       "        0.17947587, -0.22720888,  0.11834613, -0.07719807, -0.1996713 ,\n",
       "       -0.00974169,  0.0220877 ,  0.22125178])"
      ]
     },
     "execution_count": 25,
     "metadata": {},
     "output_type": "execute_result"
    }
   ],
   "source": [
    "pose_body[0]"
   ]
  },
  {
   "cell_type": "code",
   "execution_count": null,
   "metadata": {},
   "outputs": [],
   "source": []
  }
 ],
 "metadata": {
  "kernelspec": {
   "display_name": "cloudspace",
   "language": "python",
   "name": "python3"
  },
  "language_info": {
   "codemirror_mode": {
    "name": "ipython",
    "version": 3
   },
   "file_extension": ".py",
   "mimetype": "text/x-python",
   "name": "python",
   "nbconvert_exporter": "python",
   "pygments_lexer": "ipython3",
   "version": "3.10.10"
  }
 },
 "nbformat": 4,
 "nbformat_minor": 2
}
